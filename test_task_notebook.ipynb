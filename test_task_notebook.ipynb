{
 "cells": [
  {
   "metadata": {
    "id": "9caca4239af4ca7a"
   },
   "cell_type": "markdown",
   "source": "Решение тестового задания на позицию дата-инженера",
   "id": "9caca4239af4ca7a"
  },
  {
   "metadata": {
    "collapsed": true,
    "ExecuteTime": {
     "end_time": "2024-10-25T18:19:52.400355Z",
     "start_time": "2024-10-25T18:19:51.011538Z"
    },
    "id": "initial_id"
   },
   "cell_type": "code",
   "source": [
    "#Сгенерируем датасет с помощью кода ниже\n",
    "import random\n",
    "import pandas as pd\n",
    "import string\n",
    "import datetime\n",
    "import csv\n",
    "\n",
    "def random_date(start, end):\n",
    "    \"\"\"\n",
    "    This function will return a random datetime between two datetime\n",
    "    objects.\n",
    "    \"\"\"\n",
    "    delta = end - start\n",
    "    int_delta = (delta.days * 24 * 60 * 60) + delta.seconds\n",
    "    random_second = random.randrange(int_delta)\n",
    "    return start + datetime.timedelta(seconds=random_second)\n",
    "\n",
    "\n",
    "\n",
    "\n",
    "def dataset_generate(duplicate_percent, row_number, file_path):\n",
    "    d1 = datetime.datetime.strptime('1/1/2000 00:00:00', '%m/%d/%Y %H:%M:%S')\n",
    "    d2 = datetime.datetime.strptime('1/1/2025 00:00:00', '%m/%d/%Y %H:%M:%S')\n",
    "    date2 = random_date(d1, d2)\n",
    "    int2 = random.randint(1_000_000, 10_000_000)\n",
    "    str2 = ''.join(random.choices(string.ascii_uppercase + string.digits, k=10))\n",
    "    df2 = (int2, date2, str2)\n",
    "    with open(file_path, 'w', newline='') as f1:\n",
    "        df1 = ('Numeric', 'DateTime', 'String')\n",
    "        writer1 = csv.writer(f1)\n",
    "        writer1.writerow(df1)\n",
    "\n",
    "    with open(file_path, 'a+', newline='') as f:\n",
    "        for i in range(row_number):\n",
    "            writer2 = csv.writer(f)\n",
    "            if i < row_number*(1-duplicate_percent):\n",
    "                date1 = random_date(d1, d2)\n",
    "                int1 = random.randint(1_000_000, 10_000_000)\n",
    "                str1 = ''.join(random.choices(string.ascii_uppercase + string.digits, k=10))\n",
    "                df1 = (int1, date1, str1)\n",
    "                writer2.writerow(df1)\n",
    "            else:\n",
    "                writer2.writerow(df2)\n",
    "\n",
    "\n"
   ],
   "id": "initial_id",
   "outputs": [],
   "execution_count": null
  },
  {
   "metadata": {
    "ExecuteTime": {
     "end_time": "2024-10-25T18:37:58.837138Z",
     "start_time": "2024-10-25T18:19:59.903385Z"
    },
    "id": "535b7edbd44ca77f"
   },
   "cell_type": "code",
   "source": [
    "dataset_generate(0.1, 100_000_000, 'datasetfile.csv')"
   ],
   "id": "535b7edbd44ca77f",
   "outputs": [],
   "execution_count": null
  },
  {
   "metadata": {
    "ExecuteTime": {
     "end_time": "2024-10-25T18:41:24.418460Z",
     "start_time": "2024-10-25T18:41:00.746834Z"
    },
    "id": "887d8881728fac80",
    "outputId": "bb7598c6-330d-4a4f-b108-5ced865844f4"
   },
   "cell_type": "code",
   "source": [
    "!pip3 install polars"
   ],
   "id": "887d8881728fac80",
   "outputs": [
    {
     "name": "stdout",
     "output_type": "stream",
     "text": [
      "Collecting polars\n",
      "  Downloading polars-1.11.0-cp39-abi3-win_amd64.whl.metadata (14 kB)\n",
      "Downloading polars-1.11.0-cp39-abi3-win_amd64.whl (33.7 MB)\n",
      "   ---------------------------------------- 0.0/33.7 MB ? eta -:--:--\n",
      "   ---------------------------------------- 0.3/33.7 MB ? eta -:--:--\n",
      "   - -------------------------------------- 1.6/33.7 MB 8.4 MB/s eta 0:00:04\n",
      "   - -------------------------------------- 1.6/33.7 MB 8.4 MB/s eta 0:00:04\n",
      "   - -------------------------------------- 1.6/33.7 MB 8.4 MB/s eta 0:00:04\n",
      "   - -------------------------------------- 1.6/33.7 MB 8.4 MB/s eta 0:00:04\n",
      "   - -------------------------------------- 1.6/33.7 MB 8.4 MB/s eta 0:00:04\n",
      "   - -------------------------------------- 1.6/33.7 MB 8.4 MB/s eta 0:00:04\n",
      "   -- ------------------------------------- 2.4/33.7 MB 1.4 MB/s eta 0:00:23\n",
      "   ---- ----------------------------------- 4.2/33.7 MB 2.4 MB/s eta 0:00:13\n",
      "   ---- ----------------------------------- 4.2/33.7 MB 2.4 MB/s eta 0:00:13\n",
      "   ---- ----------------------------------- 4.2/33.7 MB 2.4 MB/s eta 0:00:13\n",
      "   ---- ----------------------------------- 4.2/33.7 MB 2.4 MB/s eta 0:00:13\n",
      "   ----- ---------------------------------- 4.5/33.7 MB 1.7 MB/s eta 0:00:18\n",
      "   ------- -------------------------------- 6.6/33.7 MB 2.3 MB/s eta 0:00:12\n",
      "   ------- -------------------------------- 6.6/33.7 MB 2.3 MB/s eta 0:00:12\n",
      "   ------- -------------------------------- 6.6/33.7 MB 2.3 MB/s eta 0:00:12\n",
      "   ------- -------------------------------- 6.6/33.7 MB 2.3 MB/s eta 0:00:12\n",
      "   ------- -------------------------------- 6.6/33.7 MB 2.3 MB/s eta 0:00:12\n",
      "   ------- -------------------------------- 6.6/33.7 MB 2.3 MB/s eta 0:00:12\n",
      "   ------- -------------------------------- 6.6/33.7 MB 2.3 MB/s eta 0:00:12\n",
      "   -------- ------------------------------- 6.8/33.7 MB 1.6 MB/s eta 0:00:18\n",
      "   -------- ------------------------------- 7.1/33.7 MB 1.5 MB/s eta 0:00:18\n",
      "   --------- ------------------------------ 7.6/33.7 MB 1.6 MB/s eta 0:00:17\n",
      "   ---------- ----------------------------- 9.2/33.7 MB 1.8 MB/s eta 0:00:14\n",
      "   ------------- -------------------------- 11.5/33.7 MB 2.2 MB/s eta 0:00:11\n",
      "   ---------------- ----------------------- 14.2/33.7 MB 2.6 MB/s eta 0:00:08\n",
      "   ------------------ --------------------- 15.2/33.7 MB 2.7 MB/s eta 0:00:07\n",
      "   ------------------ --------------------- 15.2/33.7 MB 2.7 MB/s eta 0:00:07\n",
      "   ------------------ --------------------- 15.2/33.7 MB 2.7 MB/s eta 0:00:07\n",
      "   ------------------ --------------------- 15.2/33.7 MB 2.7 MB/s eta 0:00:07\n",
      "   ------------------ --------------------- 15.2/33.7 MB 2.7 MB/s eta 0:00:07\n",
      "   ------------------ --------------------- 15.5/33.7 MB 2.3 MB/s eta 0:00:08\n",
      "   ------------------ --------------------- 15.7/33.7 MB 2.3 MB/s eta 0:00:08\n",
      "   -------------------- ------------------- 17.6/33.7 MB 2.5 MB/s eta 0:00:07\n",
      "   -------------------- ------------------- 17.6/33.7 MB 2.5 MB/s eta 0:00:07\n",
      "   -------------------- ------------------- 17.6/33.7 MB 2.5 MB/s eta 0:00:07\n",
      "   -------------------- ------------------- 17.6/33.7 MB 2.5 MB/s eta 0:00:07\n",
      "   -------------------- ------------------- 17.6/33.7 MB 2.5 MB/s eta 0:00:07\n",
      "   -------------------- ------------------- 17.6/33.7 MB 2.5 MB/s eta 0:00:07\n",
      "   --------------------- ------------------ 17.8/33.7 MB 2.1 MB/s eta 0:00:08\n",
      "   --------------------- ------------------ 17.8/33.7 MB 2.1 MB/s eta 0:00:08\n",
      "   --------------------- ------------------ 18.4/33.7 MB 2.1 MB/s eta 0:00:08\n",
      "   ----------------------- ---------------- 19.4/33.7 MB 2.1 MB/s eta 0:00:07\n",
      "   ------------------------- -------------- 21.2/33.7 MB 2.3 MB/s eta 0:00:06\n",
      "   ---------------------------- ----------- 23.9/33.7 MB 2.5 MB/s eta 0:00:04\n",
      "   ----------------------------- ---------- 24.9/33.7 MB 2.6 MB/s eta 0:00:04\n",
      "   ----------------------------- ---------- 24.9/33.7 MB 2.6 MB/s eta 0:00:04\n",
      "   ----------------------------- ---------- 25.2/33.7 MB 2.5 MB/s eta 0:00:04\n",
      "   ----------------------------- ---------- 25.2/33.7 MB 2.5 MB/s eta 0:00:04\n",
      "   ----------------------------- ---------- 25.2/33.7 MB 2.5 MB/s eta 0:00:04\n",
      "   ------------------------------- -------- 26.5/33.7 MB 2.5 MB/s eta 0:00:03\n",
      "   -------------------------------- ------- 27.5/33.7 MB 2.5 MB/s eta 0:00:03\n",
      "   -------------------------------- ------- 27.5/33.7 MB 2.5 MB/s eta 0:00:03\n",
      "   -------------------------------- ------- 27.5/33.7 MB 2.5 MB/s eta 0:00:03\n",
      "   -------------------------------- ------- 27.5/33.7 MB 2.5 MB/s eta 0:00:03\n",
      "   -------------------------------- ------- 27.5/33.7 MB 2.5 MB/s eta 0:00:03\n",
      "   -------------------------------- ------- 27.5/33.7 MB 2.5 MB/s eta 0:00:03\n",
      "   -------------------------------- ------- 27.8/33.7 MB 2.3 MB/s eta 0:00:03\n",
      "   --------------------------------- ------ 28.0/33.7 MB 2.2 MB/s eta 0:00:03\n",
      "   --------------------------------- ------ 28.6/33.7 MB 2.2 MB/s eta 0:00:03\n",
      "   ----------------------------------- ---- 29.6/33.7 MB 2.3 MB/s eta 0:00:02\n",
      "   ------------------------------------- -- 31.7/33.7 MB 2.4 MB/s eta 0:00:01\n",
      "   ---------------------------------------  33.6/33.7 MB 2.5 MB/s eta 0:00:01\n",
      "   ---------------------------------------- 33.7/33.7 MB 2.5 MB/s eta 0:00:00\n",
      "Installing collected packages: polars\n",
      "Successfully installed polars-1.11.0\n"
     ]
    }
   ],
   "execution_count": null
  },
  {
   "metadata": {
    "ExecuteTime": {
     "end_time": "2024-10-25T18:45:14.154500Z",
     "start_time": "2024-10-25T18:44:56.153719Z"
    },
    "id": "8fd996df6a7f7113"
   },
   "cell_type": "code",
   "source": [
    "#Если датасет создан, то нужно смотреть код отсюда\n",
    "import polars as pl\n",
    "\n",
    "df = pl.read_csv(\"datasetfile.csv\")"
   ],
   "id": "8fd996df6a7f7113",
   "outputs": [],
   "execution_count": null
  },
  {
   "metadata": {
    "ExecuteTime": {
     "end_time": "2024-10-25T18:45:17.099477Z",
     "start_time": "2024-10-25T18:45:17.081748Z"
    },
    "id": "2df86ef6f84e1183",
    "outputId": "c58e0aad-eda6-418e-d4e3-e436218c2935"
   },
   "cell_type": "code",
   "source": [
    "#Check dataset size\n",
    "df.select(pl.len())"
   ],
   "id": "2df86ef6f84e1183",
   "outputs": [
    {
     "data": {
      "text/plain": [
       "shape: (1, 1)\n",
       "┌───────────┐\n",
       "│ len       │\n",
       "│ ---       │\n",
       "│ u32       │\n",
       "╞═══════════╡\n",
       "│ 100000000 │\n",
       "└───────────┘"
      ],
      "text/html": [
       "<div><style>\n",
       ".dataframe > thead > tr,\n",
       ".dataframe > tbody > tr {\n",
       "  text-align: right;\n",
       "  white-space: pre-wrap;\n",
       "}\n",
       "</style>\n",
       "<small>shape: (1, 1)</small><table border=\"1\" class=\"dataframe\"><thead><tr><th>len</th></tr><tr><td>u32</td></tr></thead><tbody><tr><td>100000000</td></tr></tbody></table></div>"
      ]
     },
     "execution_count": 11,
     "metadata": {},
     "output_type": "execute_result"
    }
   ],
   "execution_count": null
  },
  {
   "metadata": {
    "ExecuteTime": {
     "end_time": "2024-10-25T18:45:24.031220Z",
     "start_time": "2024-10-25T18:45:24.026830Z"
    },
    "id": "c5631030f174fa68",
    "outputId": "7c15e076-4629-4852-f45d-859bb5de0427"
   },
   "cell_type": "code",
   "source": [
    "print(df[0])"
   ],
   "id": "c5631030f174fa68",
   "outputs": [
    {
     "name": "stdout",
     "output_type": "stream",
     "text": [
      "shape: (1, 3)\n",
      "┌─────────┬─────────────────────┬────────────┐\n",
      "│ Numeric ┆ DateTime            ┆ String     │\n",
      "│ ---     ┆ ---                 ┆ ---        │\n",
      "│ i64     ┆ str                 ┆ str        │\n",
      "╞═════════╪═════════════════════╪════════════╡\n",
      "│ 1584073 ┆ 2012-11-03 13:08:30 ┆ 0GW7EXT7QM │\n",
      "└─────────┴─────────────────────┴────────────┘\n"
     ]
    }
   ],
   "execution_count": null
  },
  {
   "metadata": {
    "ExecuteTime": {
     "end_time": "2024-10-25T18:45:31.395445Z",
     "start_time": "2024-10-25T18:45:30.015192Z"
    },
    "id": "b3c421993a8ba2da",
    "outputId": "54a4e960-7b63-4269-b9bb-216817c88166"
   },
   "cell_type": "code",
   "source": [
    "df = df.with_columns(\n",
    "    pl.col(\"DateTime\").str.to_datetime(\"%Y-%m-%d %H:%M:%S\")\n",
    ")\n",
    "print(df[0])"
   ],
   "id": "b3c421993a8ba2da",
   "outputs": [
    {
     "name": "stdout",
     "output_type": "stream",
     "text": [
      "shape: (1, 3)\n",
      "┌─────────┬─────────────────────┬────────────┐\n",
      "│ Numeric ┆ DateTime            ┆ String     │\n",
      "│ ---     ┆ ---                 ┆ ---        │\n",
      "│ i64     ┆ datetime[μs]        ┆ str        │\n",
      "╞═════════╪═════════════════════╪════════════╡\n",
      "│ 1584073 ┆ 2012-11-03 13:08:30 ┆ 0GW7EXT7QM │\n",
      "└─────────┴─────────────────────┴────────────┘\n"
     ]
    }
   ],
   "execution_count": null
  },
  {
   "metadata": {
    "ExecuteTime": {
     "end_time": "2024-10-25T18:45:34.468873Z",
     "start_time": "2024-10-25T18:45:34.463481Z"
    },
    "id": "e5e450db3ac3bee2",
    "outputId": "f148c675-d24b-4ef8-c5ee-52a4c0838edb"
   },
   "cell_type": "code",
   "source": [
    "df.select(pl.len())"
   ],
   "id": "e5e450db3ac3bee2",
   "outputs": [
    {
     "data": {
      "text/plain": [
       "shape: (1, 1)\n",
       "┌───────────┐\n",
       "│ len       │\n",
       "│ ---       │\n",
       "│ u32       │\n",
       "╞═══════════╡\n",
       "│ 100000000 │\n",
       "└───────────┘"
      ],
      "text/html": [
       "<div><style>\n",
       ".dataframe > thead > tr,\n",
       ".dataframe > tbody > tr {\n",
       "  text-align: right;\n",
       "  white-space: pre-wrap;\n",
       "}\n",
       "</style>\n",
       "<small>shape: (1, 1)</small><table border=\"1\" class=\"dataframe\"><thead><tr><th>len</th></tr><tr><td>u32</td></tr></thead><tbody><tr><td>100000000</td></tr></tbody></table></div>"
      ]
     },
     "execution_count": 14,
     "metadata": {},
     "output_type": "execute_result"
    }
   ],
   "execution_count": null
  },
  {
   "metadata": {
    "ExecuteTime": {
     "end_time": "2024-10-25T18:45:41.483398Z",
     "start_time": "2024-10-25T18:45:41.454850Z"
    },
    "id": "4431d2bf40231fbf",
    "outputId": "ea7f5a5e-6c50-48ec-9716-e96d568efaf1"
   },
   "cell_type": "code",
   "source": [
    "# 1. Удалить пустые/NA строки(все значения внутри строки пустые)\n",
    "import functools\n",
    "import operator\n",
    "\n",
    "df = df.filter(~functools.reduce(operator.or_, map(lambda col: pl.col(col).is_null(), df.columns)))\n",
    "df.select(pl.len())"
   ],
   "id": "4431d2bf40231fbf",
   "outputs": [
    {
     "data": {
      "text/plain": [
       "shape: (1, 1)\n",
       "┌───────────┐\n",
       "│ len       │\n",
       "│ ---       │\n",
       "│ u32       │\n",
       "╞═══════════╡\n",
       "│ 100000000 │\n",
       "└───────────┘"
      ],
      "text/html": [
       "<div><style>\n",
       ".dataframe > thead > tr,\n",
       ".dataframe > tbody > tr {\n",
       "  text-align: right;\n",
       "  white-space: pre-wrap;\n",
       "}\n",
       "</style>\n",
       "<small>shape: (1, 1)</small><table border=\"1\" class=\"dataframe\"><thead><tr><th>len</th></tr><tr><td>u32</td></tr></thead><tbody><tr><td>100000000</td></tr></tbody></table></div>"
      ]
     },
     "execution_count": 15,
     "metadata": {},
     "output_type": "execute_result"
    }
   ],
   "execution_count": null
  },
  {
   "metadata": {
    "ExecuteTime": {
     "end_time": "2024-10-25T18:53:48.089542Z",
     "start_time": "2024-10-25T18:48:34.250004Z"
    },
    "id": "6e3f84dc89479b98",
    "outputId": "56eed638-eee6-4c60-8dab-09807b96a92f"
   },
   "cell_type": "code",
   "source": [
    "# 2. Удалить дубликаты\n",
    "\n",
    "#df1 = functools.reduce(lambda acc, col: acc.unique(subset=[col]), df.columns, df)\n",
    "df1 = df.unique(maintain_order=True)\n",
    "# Альтернативные способы, но не такие быстрые\n",
    "#df1 = df.lazy().unique().collect()\n",
    "#df = df.unique()\n",
    "df1.select(pl.len())"
   ],
   "id": "6e3f84dc89479b98",
   "outputs": [
    {
     "data": {
      "text/plain": [
       "shape: (1, 1)\n",
       "┌──────────┐\n",
       "│ len      │\n",
       "│ ---      │\n",
       "│ u32      │\n",
       "╞══════════╡\n",
       "│ 90000001 │\n",
       "└──────────┘"
      ],
      "text/html": [
       "<div><style>\n",
       ".dataframe > thead > tr,\n",
       ".dataframe > tbody > tr {\n",
       "  text-align: right;\n",
       "  white-space: pre-wrap;\n",
       "}\n",
       "</style>\n",
       "<small>shape: (1, 1)</small><table border=\"1\" class=\"dataframe\"><thead><tr><th>len</th></tr><tr><td>u32</td></tr></thead><tbody><tr><td>90000001</td></tr></tbody></table></div>"
      ]
     },
     "execution_count": 16,
     "metadata": {},
     "output_type": "execute_result"
    }
   ],
   "execution_count": null
  },
  {
   "metadata": {
    "ExecuteTime": {
     "end_time": "2024-10-25T18:53:58.153650Z",
     "start_time": "2024-10-25T18:53:58.141927Z"
    },
    "id": "8e4f628299f5cb57",
    "outputId": "e0f3ad48-d7e6-4141-fffe-6ba63050331f"
   },
   "cell_type": "code",
   "source": [
    "df1.columns"
   ],
   "id": "8e4f628299f5cb57",
   "outputs": [
    {
     "data": {
      "text/plain": [
       "['Numeric', 'DateTime', 'String']"
      ]
     },
     "execution_count": 17,
     "metadata": {},
     "output_type": "execute_result"
    }
   ],
   "execution_count": null
  },
  {
   "metadata": {
    "ExecuteTime": {
     "end_time": "2024-10-25T18:54:05.020977Z",
     "start_time": "2024-10-25T18:54:04.355415Z"
    },
    "id": "7f4eff8b09db07ff",
    "outputId": "e42f2bb8-805d-43c0-ba08-d4a050031066"
   },
   "cell_type": "code",
   "source": [
    "# 3. Строки, в которых нет цифр, сделать пустыми\n",
    "df2 = df1.fill_null(not(pl.when(pl.col(\"String\").str.contains(r'\\d'))))\n",
    "df2.select(pl.len())"
   ],
   "id": "7f4eff8b09db07ff",
   "outputs": [
    {
     "data": {
      "text/plain": [
       "shape: (1, 1)\n",
       "┌──────────┐\n",
       "│ len      │\n",
       "│ ---      │\n",
       "│ u32      │\n",
       "╞══════════╡\n",
       "│ 90000001 │\n",
       "└──────────┘"
      ],
      "text/html": [
       "<div><style>\n",
       ".dataframe > thead > tr,\n",
       ".dataframe > tbody > tr {\n",
       "  text-align: right;\n",
       "  white-space: pre-wrap;\n",
       "}\n",
       "</style>\n",
       "<small>shape: (1, 1)</small><table border=\"1\" class=\"dataframe\"><thead><tr><th>len</th></tr><tr><td>u32</td></tr></thead><tbody><tr><td>90000001</td></tr></tbody></table></div>"
      ]
     },
     "execution_count": 18,
     "metadata": {},
     "output_type": "execute_result"
    }
   ],
   "execution_count": null
  },
  {
   "metadata": {
    "ExecuteTime": {
     "end_time": "2024-10-25T18:54:27.793847Z",
     "start_time": "2024-10-25T18:54:25.093335Z"
    },
    "id": "994138a3fb379734",
    "outputId": "0275990d-a47b-47ec-8b24-00b40b85c3b1"
   },
   "cell_type": "code",
   "source": [
    "# 4. Удалить записи в промежутке от 1 до 3 часов ночи\n",
    "df3 = df2.filter(~(pl.col(\"DateTime\").dt.hour().is_between(1, 3)))\n",
    "df3.select(pl.len())"
   ],
   "id": "994138a3fb379734",
   "outputs": [
    {
     "data": {
      "text/plain": [
       "shape: (1, 1)\n",
       "┌──────────┐\n",
       "│ len      │\n",
       "│ ---      │\n",
       "│ u32      │\n",
       "╞══════════╡\n",
       "│ 78752743 │\n",
       "└──────────┘"
      ],
      "text/html": [
       "<div><style>\n",
       ".dataframe > thead > tr,\n",
       ".dataframe > tbody > tr {\n",
       "  text-align: right;\n",
       "  white-space: pre-wrap;\n",
       "}\n",
       "</style>\n",
       "<small>shape: (1, 1)</small><table border=\"1\" class=\"dataframe\"><thead><tr><th>len</th></tr><tr><td>u32</td></tr></thead><tbody><tr><td>78752743</td></tr></tbody></table></div>"
      ]
     },
     "execution_count": 19,
     "metadata": {},
     "output_type": "execute_result"
    }
   ],
   "execution_count": null
  },
  {
   "metadata": {
    "id": "ad0dfe4da86a70db"
   },
   "cell_type": "markdown",
   "source": [
    "Метрики"
   ],
   "id": "ad0dfe4da86a70db"
  },
  {
   "metadata": {
    "ExecuteTime": {
     "end_time": "2024-10-25T18:54:54.243551Z",
     "start_time": "2024-10-25T18:54:47.478117Z"
    },
    "id": "121979016300df6c",
    "outputId": "08945c1e-7c47-4687-bb81-fb336916d75c"
   },
   "cell_type": "code",
   "source": [
    "# Подсчет уникальных строк для каждого часа\n",
    "\n",
    "result = (\n",
    "    df3.with_columns(\n",
    "        pl.col(\"DateTime\").dt.hour().alias(\"hour\")  # Извлекаем часы\n",
    "    )\n",
    "    .group_by(\"hour\")  # Группируем по часам\n",
    "    .agg([\n",
    "        pl.col(\"String\").n_unique().alias(\"unique_strings_count\"),  # Считаем уникальные строки\n",
    "        pl.col(\"Numeric\").mean().alias(\"mean_number\"),  # Считаем среднее\n",
    "        pl.col(\"Numeric\").median().alias(\"median_number\")  # Считаем медиану\n",
    "    ]).sort('hour')\n",
    ")\n",
    "print(result)"
   ],
   "id": "121979016300df6c",
   "outputs": [
    {
     "name": "stdout",
     "output_type": "stream",
     "text": [
      "shape: (21, 4)\n",
      "┌──────┬──────────────────────┬─────────────┬───────────────┐\n",
      "│ hour ┆ unique_strings_count ┆ mean_number ┆ median_number │\n",
      "│ ---  ┆ ---                  ┆ ---         ┆ ---           │\n",
      "│ i8   ┆ u32                  ┆ f64         ┆ f64           │\n",
      "╞══════╪══════════════════════╪═════════════╪═══════════════╡\n",
      "│ 0    ┆ 3747964              ┆ 5.4988e6    ┆ 5.497428e6    │\n",
      "│ 4    ┆ 3749898              ┆ 5.4985e6    ┆ 5497623.5     │\n",
      "│ 5    ┆ 3750158              ┆ 5.5024e6    ┆ 5505698.5     │\n",
      "│ 6    ┆ 3749247              ┆ 5.4985e6    ┆ 5.497854e6    │\n",
      "│ 7    ┆ 3749669              ┆ 5.4998e6    ┆ 5.500976e6    │\n",
      "│ …    ┆ …                    ┆ …           ┆ …             │\n",
      "│ 19   ┆ 3750267              ┆ 5.5000e6    ┆ 5.501764e6    │\n",
      "│ 20   ┆ 3748059              ┆ 5.5005e6    ┆ 5.502151e6    │\n",
      "│ 21   ┆ 3747678              ┆ 5.4987e6    ┆ 5.49913e6     │\n",
      "│ 22   ┆ 3752024              ┆ 5.5013e6    ┆ 5.50259e6     │\n",
      "│ 23   ┆ 3751927              ┆ 5.4999e6    ┆ 5.501686e6    │\n",
      "└──────┴──────────────────────┴─────────────┴───────────────┘\n"
     ]
    }
   ],
   "execution_count": null
  },
  {
   "metadata": {
    "id": "9c746bd16e28c24e"
   },
   "cell_type": "code",
   "outputs": [],
   "execution_count": null,
   "source": [
    "\"\"\"\n",
    "SQL-запрос\n",
    "\n",
    "SELECT\n",
    "    DATE_TRUNC('hour', DateTime) AS hour,  -- Округляем дату до часа\n",
    "    AVG(Numeric) AS mean_value,  -- Среднее значение\n",
    "    PERCENTILE_CONT(0.5) WITHIN GROUP (ORDER BY Numeric) AS median_value,  -- Медиана\n",
    "    COUNT(DISTINCT String) AS unique_strings_count  -- Количество уникальных строк\n",
    "FROM\n",
    "    my_table\n",
    "GROUP BY\n",
    "    hour  -- Группируем по часу\n",
    "ORDER BY\n",
    "    hour;  -- Сортируем по часу\n",
    "\"\"\""
   ],
   "id": "9c746bd16e28c24e"
  },
  {
   "metadata": {
    "id": "8a32a7bf7d128ccc"
   },
   "cell_type": "markdown",
   "source": [
    "Мерж"
   ],
   "id": "8a32a7bf7d128ccc"
  },
  {
   "metadata": {
    "ExecuteTime": {
     "end_time": "2024-10-25T18:57:02.734960Z",
     "start_time": "2024-10-25T18:57:02.725905Z"
    },
    "id": "bba820d57385cee3",
    "outputId": "41b868a4-7bff-4d19-f910-3dcf88051974"
   },
   "cell_type": "code",
   "source": [
    "df3.select(\"*\")"
   ],
   "id": "bba820d57385cee3",
   "outputs": [
    {
     "data": {
      "text/plain": [
       "shape: (78_752_743, 3)\n",
       "┌─────────┬─────────────────────┬────────────┐\n",
       "│ Numeric ┆ DateTime            ┆ String     │\n",
       "│ ---     ┆ ---                 ┆ ---        │\n",
       "│ i64     ┆ datetime[μs]        ┆ str        │\n",
       "╞═════════╪═════════════════════╪════════════╡\n",
       "│ 1584073 ┆ 2012-11-03 13:08:30 ┆ 0GW7EXT7QM │\n",
       "│ 4396077 ┆ 2020-03-07 08:03:59 ┆ H6PEKHFJLA │\n",
       "│ 4380505 ┆ 2005-07-25 21:13:08 ┆ 73ZESWDN3B │\n",
       "│ 9060509 ┆ 2003-12-25 13:38:22 ┆ F5IQ8C1C0I │\n",
       "│ 2164494 ┆ 2022-01-02 06:35:27 ┆ LRQW0MWWM6 │\n",
       "│ …       ┆ …                   ┆ …          │\n",
       "│ 1720222 ┆ 2021-09-22 22:15:03 ┆ GEA1KPVDN8 │\n",
       "│ 9925223 ┆ 2008-10-08 00:48:18 ┆ 6B4J8FGAVI │\n",
       "│ 2333335 ┆ 2013-02-06 20:55:23 ┆ 5W7L0E7MS3 │\n",
       "│ 7430579 ┆ 2000-11-25 09:45:18 ┆ AXO78TZJ5N │\n",
       "│ 8857679 ┆ 2016-12-02 11:18:58 ┆ H02JJCRKYA │\n",
       "└─────────┴─────────────────────┴────────────┘"
      ],
      "text/html": [
       "<div><style>\n",
       ".dataframe > thead > tr,\n",
       ".dataframe > tbody > tr {\n",
       "  text-align: right;\n",
       "  white-space: pre-wrap;\n",
       "}\n",
       "</style>\n",
       "<small>shape: (78_752_743, 3)</small><table border=\"1\" class=\"dataframe\"><thead><tr><th>Numeric</th><th>DateTime</th><th>String</th></tr><tr><td>i64</td><td>datetime[μs]</td><td>str</td></tr></thead><tbody><tr><td>1584073</td><td>2012-11-03 13:08:30</td><td>&quot;0GW7EXT7QM&quot;</td></tr><tr><td>4396077</td><td>2020-03-07 08:03:59</td><td>&quot;H6PEKHFJLA&quot;</td></tr><tr><td>4380505</td><td>2005-07-25 21:13:08</td><td>&quot;73ZESWDN3B&quot;</td></tr><tr><td>9060509</td><td>2003-12-25 13:38:22</td><td>&quot;F5IQ8C1C0I&quot;</td></tr><tr><td>2164494</td><td>2022-01-02 06:35:27</td><td>&quot;LRQW0MWWM6&quot;</td></tr><tr><td>&hellip;</td><td>&hellip;</td><td>&hellip;</td></tr><tr><td>1720222</td><td>2021-09-22 22:15:03</td><td>&quot;GEA1KPVDN8&quot;</td></tr><tr><td>9925223</td><td>2008-10-08 00:48:18</td><td>&quot;6B4J8FGAVI&quot;</td></tr><tr><td>2333335</td><td>2013-02-06 20:55:23</td><td>&quot;5W7L0E7MS3&quot;</td></tr><tr><td>7430579</td><td>2000-11-25 09:45:18</td><td>&quot;AXO78TZJ5N&quot;</td></tr><tr><td>8857679</td><td>2016-12-02 11:18:58</td><td>&quot;H02JJCRKYA&quot;</td></tr></tbody></table></div>"
      ]
     },
     "execution_count": 21,
     "metadata": {},
     "output_type": "execute_result"
    }
   ],
   "execution_count": null
  },
  {
   "metadata": {
    "ExecuteTime": {
     "end_time": "2024-10-25T18:57:14.772637Z",
     "start_time": "2024-10-25T18:57:10.781951Z"
    },
    "id": "52f6d522ef610506",
    "outputId": "26fcaa68-5d05-4942-b167-d28abac898a1"
   },
   "cell_type": "code",
   "source": [
    "result1 = df3.join(result, left_on=(pl.col(\"DateTime\").dt.round(\"1h\").dt.hour().cast(pl.Int8)), right_on=\"hour\", how=\"inner\")\n",
    "result1.select(\"*\")"
   ],
   "id": "52f6d522ef610506",
   "outputs": [
    {
     "data": {
      "text/plain": [
       "shape: (76_878_456, 7)\n",
       "┌─────────┬──────────────┬────────────┬──────┬───────────────────────┬─────────────┬───────────────┐\n",
       "│ Numeric ┆ DateTime     ┆ String     ┆ hour ┆ unique_strings_count  ┆ mean_number ┆ median_number │\n",
       "│ ---     ┆ ---          ┆ ---        ┆ ---  ┆ ---                   ┆ ---         ┆ ---           │\n",
       "│ i64     ┆ datetime[μs] ┆ str        ┆ i8   ┆ u32                   ┆ f64         ┆ f64           │\n",
       "╞═════════╪══════════════╪════════════╪══════╪═══════════════════════╪═════════════╪═══════════════╡\n",
       "│ 1584073 ┆ 2012-11-03   ┆ 0GW7EXT7QM ┆ 13   ┆ 3752881               ┆ 5.4997e6    ┆ 5.498572e6    │\n",
       "│         ┆ 13:08:30     ┆            ┆      ┆                       ┆             ┆               │\n",
       "│ 4396077 ┆ 2020-03-07   ┆ H6PEKHFJLA ┆ 8    ┆ 3752756               ┆ 5.5017e6    ┆ 5503175.5     │\n",
       "│         ┆ 08:03:59     ┆            ┆      ┆                       ┆             ┆               │\n",
       "│ 4380505 ┆ 2005-07-25   ┆ 73ZESWDN3B ┆ 21   ┆ 3747678               ┆ 5.4987e6    ┆ 5.49913e6     │\n",
       "│         ┆ 21:13:08     ┆            ┆      ┆                       ┆             ┆               │\n",
       "│ 9060509 ┆ 2003-12-25   ┆ F5IQ8C1C0I ┆ 14   ┆ 3752093               ┆ 5.4988e6    ┆ 5.495908e6    │\n",
       "│         ┆ 13:38:22     ┆            ┆      ┆                       ┆             ┆               │\n",
       "│ 2164494 ┆ 2022-01-02   ┆ LRQW0MWWM6 ┆ 7    ┆ 3749669               ┆ 5.4998e6    ┆ 5.500976e6    │\n",
       "│         ┆ 06:35:27     ┆            ┆      ┆                       ┆             ┆               │\n",
       "│ …       ┆ …            ┆ …          ┆ …    ┆ …                     ┆ …           ┆ …             │\n",
       "│ 4472086 ┆ 2004-03-20   ┆ 48HC0GRB4U ┆ 20   ┆ 3748059               ┆ 5.5005e6    ┆ 5.502151e6    │\n",
       "│         ┆ 19:49:58     ┆            ┆      ┆                       ┆             ┆               │\n",
       "│ 1720222 ┆ 2021-09-22   ┆ GEA1KPVDN8 ┆ 22   ┆ 3752024               ┆ 5.5013e6    ┆ 5.50259e6     │\n",
       "│         ┆ 22:15:03     ┆            ┆      ┆                       ┆             ┆               │\n",
       "│ 2333335 ┆ 2013-02-06   ┆ 5W7L0E7MS3 ┆ 21   ┆ 3747678               ┆ 5.4987e6    ┆ 5.49913e6     │\n",
       "│         ┆ 20:55:23     ┆            ┆      ┆                       ┆             ┆               │\n",
       "│ 7430579 ┆ 2000-11-25   ┆ AXO78TZJ5N ┆ 10   ┆ 3748412               ┆ 5.5017e6    ┆ 5.503444e6    │\n",
       "│         ┆ 09:45:18     ┆            ┆      ┆                       ┆             ┆               │\n",
       "│ 8857679 ┆ 2016-12-02   ┆ H02JJCRKYA ┆ 11   ┆ 3748790               ┆ 5.5031e6    ┆ 5.505361e6    │\n",
       "│         ┆ 11:18:58     ┆            ┆      ┆                       ┆             ┆               │\n",
       "└─────────┴──────────────┴────────────┴──────┴───────────────────────┴─────────────┴───────────────┘"
      ],
      "text/html": [
       "<div><style>\n",
       ".dataframe > thead > tr,\n",
       ".dataframe > tbody > tr {\n",
       "  text-align: right;\n",
       "  white-space: pre-wrap;\n",
       "}\n",
       "</style>\n",
       "<small>shape: (76_878_456, 7)</small><table border=\"1\" class=\"dataframe\"><thead><tr><th>Numeric</th><th>DateTime</th><th>String</th><th>hour</th><th>unique_strings_count</th><th>mean_number</th><th>median_number</th></tr><tr><td>i64</td><td>datetime[μs]</td><td>str</td><td>i8</td><td>u32</td><td>f64</td><td>f64</td></tr></thead><tbody><tr><td>1584073</td><td>2012-11-03 13:08:30</td><td>&quot;0GW7EXT7QM&quot;</td><td>13</td><td>3752881</td><td>5.4997e6</td><td>5.498572e6</td></tr><tr><td>4396077</td><td>2020-03-07 08:03:59</td><td>&quot;H6PEKHFJLA&quot;</td><td>8</td><td>3752756</td><td>5.5017e6</td><td>5503175.5</td></tr><tr><td>4380505</td><td>2005-07-25 21:13:08</td><td>&quot;73ZESWDN3B&quot;</td><td>21</td><td>3747678</td><td>5.4987e6</td><td>5.49913e6</td></tr><tr><td>9060509</td><td>2003-12-25 13:38:22</td><td>&quot;F5IQ8C1C0I&quot;</td><td>14</td><td>3752093</td><td>5.4988e6</td><td>5.495908e6</td></tr><tr><td>2164494</td><td>2022-01-02 06:35:27</td><td>&quot;LRQW0MWWM6&quot;</td><td>7</td><td>3749669</td><td>5.4998e6</td><td>5.500976e6</td></tr><tr><td>&hellip;</td><td>&hellip;</td><td>&hellip;</td><td>&hellip;</td><td>&hellip;</td><td>&hellip;</td><td>&hellip;</td></tr><tr><td>4472086</td><td>2004-03-20 19:49:58</td><td>&quot;48HC0GRB4U&quot;</td><td>20</td><td>3748059</td><td>5.5005e6</td><td>5.502151e6</td></tr><tr><td>1720222</td><td>2021-09-22 22:15:03</td><td>&quot;GEA1KPVDN8&quot;</td><td>22</td><td>3752024</td><td>5.5013e6</td><td>5.50259e6</td></tr><tr><td>2333335</td><td>2013-02-06 20:55:23</td><td>&quot;5W7L0E7MS3&quot;</td><td>21</td><td>3747678</td><td>5.4987e6</td><td>5.49913e6</td></tr><tr><td>7430579</td><td>2000-11-25 09:45:18</td><td>&quot;AXO78TZJ5N&quot;</td><td>10</td><td>3748412</td><td>5.5017e6</td><td>5.503444e6</td></tr><tr><td>8857679</td><td>2016-12-02 11:18:58</td><td>&quot;H02JJCRKYA&quot;</td><td>11</td><td>3748790</td><td>5.5031e6</td><td>5.505361e6</td></tr></tbody></table></div>"
      ]
     },
     "execution_count": 22,
     "metadata": {},
     "output_type": "execute_result"
    }
   ],
   "execution_count": null
  },
  {
   "metadata": {
    "id": "25e32480ed479890"
   },
   "cell_type": "markdown",
   "source": [
    "Аналитические метрики"
   ],
   "id": "25e32480ed479890"
  },
  {
   "metadata": {
    "id": "b58e140fa7b927cb"
   },
   "cell_type": "markdown",
   "source": [
    "Гистограмма"
   ],
   "id": "b58e140fa7b927cb"
  },
  {
   "metadata": {
    "ExecuteTime": {
     "end_time": "2024-10-25T19:22:49.754076Z",
     "start_time": "2024-10-25T19:22:47.917079Z"
    },
    "id": "ce5c1ead9a8ed474",
    "outputId": "9b70af51-0e4c-42c1-f118-ff7a94647094"
   },
   "cell_type": "code",
   "source": [
    "import matplotlib.pyplot as plt\n",
    "import numpy as np\n",
    "\n",
    "min_value = df.select(pl.col(\"Numeric\").min()).item()\n",
    "max_value = df.select(pl.col(\"Numeric\").max()).item()\n",
    "\n",
    "bins = np.linspace(min_value, max_value, 51)\n",
    "\n",
    "hist = (\n",
    "    df.with_columns((pl.col(\"Numeric\") // (max_value / 50)).alias(\"bin\"))\n",
    "      .group_by(\"bin\")\n",
    "      .agg([pl.len().alias(\"count\")])\n",
    ")\n",
    "\n",
    "plt.figure(figsize=(12, 6))\n",
    "plt.bar(hist[\"bin\"], hist[\"count\"])\n",
    "plt.title('Гистограмма')\n",
    "plt.xlabel('Бины')\n",
    "plt.ylabel('Частота')\n",
    "plt.show()\n",
    "# выброс берется из-за наличия дубликатов. Видно, что, не считая дубликатов, данные равномерно распределены"
   ],
   "id": "ce5c1ead9a8ed474",
   "outputs": [
    {
     "data": {
      "text/plain": [
       "<Figure size 1200x600 with 1 Axes>"
      ],
      "image/png": "[encoded data removed]"
     },
     "metadata": {},
     "output_type": "display_data"
    }
   ],
   "execution_count": null
  },
  {
   "metadata": {
    "id": "811f88e59a815fb2"
   },
   "cell_type": "markdown",
   "source": [
    "95% доверительный интервал для numeric"
   ],
   "id": "811f88e59a815fb2"
  },
  {
   "metadata": {
    "ExecuteTime": {
     "end_time": "2024-10-25T20:53:47.375204Z",
     "start_time": "2024-10-25T20:53:47.115905Z"
    },
    "id": "95c8e48e79fc597e",
    "outputId": "cdfeeb94-5345-4da5-8f80-b96fa2c93a42"
   },
   "cell_type": "code",
   "source": [
    "data = df[\"Numeric\"]\n",
    "\n",
    "# Количество наблюдений\n",
    "n = len(data)\n",
    "\n",
    "# Среднее значение\n",
    "mean = data.mean()\n",
    "\n",
    "# Стандартное отклонение\n",
    "std_dev = data.std(ddof=0)\n",
    "\n",
    "# Стандартная ошибка среднего\n",
    "sem = std_dev / n**0.5\n",
    "\n",
    "# Коэффициент t-критерия Стьюдента для 95% доверительного интервала при числе степеней свободы n-1\n",
    "from scipy.stats import t\n",
    "alpha = 0.05\n",
    "t_crit = t.ppf(1 - alpha/2, n-1)\n",
    "\n",
    "# Доверительные границы\n",
    "lower_bound = mean - sem * t_crit\n",
    "upper_bound = mean + sem * t_crit\n",
    "\n",
    "print(f'95% доверительный интервал для Numeric: ({lower_bound:.4f}, {upper_bound:.4f})')"
   ],
   "id": "95c8e48e79fc597e",
   "outputs": [
    {
     "name": "stdout",
     "output_type": "stream",
     "text": [
      "95% доверительный интервал для Numeric: (5835322.0170, 5836365.6691)\n"
     ]
    }
   ],
   "execution_count": null
  },
  {
   "metadata": {
    "id": "87a6512a0316aa8"
   },
   "cell_type": "markdown",
   "source": [
    "Визуализация"
   ],
   "id": "87a6512a0316aa8"
  },
  {
   "metadata": {
    "id": "b14a2c5a7fec62b3"
   },
   "cell_type": "markdown",
   "source": [
    "Построение зависимости среднего в колонке Numeric от месяца"
   ],
   "id": "b14a2c5a7fec62b3"
  },
  {
   "metadata": {
    "ExecuteTime": {
     "end_time": "2024-10-25T21:19:28.313032Z",
     "start_time": "2024-10-25T21:19:26.711402Z"
    },
    "id": "69ec3ee083cc599d",
    "outputId": "153cca54-6b79-460d-9e7e-13a7677c2ec6"
   },
   "cell_type": "code",
   "source": [
    "# Группировка по месяцу и расчет среднего значения\n",
    "grouped_df = (\n",
    "    df.with_columns(\n",
    "        pl.col(\"DateTime\").dt.month().alias(\"month\")  # Извлекаем часы\n",
    "    )\n",
    "    .group_by(\"month\")  # Группируем по часам\n",
    "    .agg([\n",
    "        pl.col(\"Numeric\").mean().alias(\"average_value\"),  # Считаем среднее\n",
    "    ]).sort('month')\n",
    ")\n",
    "\n",
    "# Отображение графика\n",
    "plt.figure(figsize=(10, 6))\n",
    "plt.plot(grouped_df[\"month\"], grouped_df[\"average_value\"])\n",
    "plt.title(\"Среднее значение по месяцам\")\n",
    "plt.xlabel(\"Месяц\")\n",
    "plt.ylabel(\"Среднее значение\")\n",
    "plt.grid(True)\n",
    "plt.show()"
   ],
   "id": "69ec3ee083cc599d",
   "outputs": [
    {
     "data": {
      "text/plain": [
       "<Figure size 1000x600 with 1 Axes>"
      ],
      "image/png": "[encoded data removed]"
     },
     "metadata": {},
     "output_type": "display_data"
    }
   ],
   "execution_count": null
  },
  {
   "metadata": {
    "id": "f0ddb6c36ace1f97"
   },
   "cell_type": "markdown",
   "source": [
    "Построение Heatmap по частотности символов в колонке string"
   ],
   "id": "f0ddb6c36ace1f97"
  },
  {
   "cell_type": "code",
   "source": [
    "# Эту часть задания лучше посчитать на TPU в Google Colab, так в несколько десятков раз быстрее\n",
    "from google.colab import drive\n",
    "drive.mount('/content/drive')"
   ],
   "metadata": {
    "colab": {
     "base_uri": "https://localhost:8080/"
    },
    "id": "roThaNZTcPsu",
    "outputId": "6a854a22-85f1-4280-e8b3-2b180a843110"
   },
   "id": "roThaNZTcPsu",
   "execution_count": 2,
   "outputs": [
    {
     "output_type": "stream",
     "name": "stdout",
     "text": [
      "Drive already mounted at /content/drive; to attempt to forcibly remount, call drive.mount(\"/content/drive\", force_remount=True).\n"
     ]
    }
   ]
  },
  {
   "cell_type": "code",
   "source": [
    "import os\n",
    "os.chdir(\"drive/My Drive/\")"
   ],
   "metadata": {
    "id": "Fof-Wnk8diWt"
   },
   "id": "Fof-Wnk8diWt",
   "execution_count": 3,
   "outputs": []
  },
  {
   "metadata": {
    "jupyter": {
     "is_executing": true
    },
    "ExecuteTime": {
     "start_time": "2024-10-26T19:50:05.094342Z"
    },
    "colab": {
     "base_uri": "https://localhost:8080/",
     "height": 1000
    },
    "id": "2d6806a0305f86d2",
    "outputId": "028a45da-8f46-4af7-9a03-de97f31c32d8"
   },
   "cell_type": "code",
   "source": [
    "import numpy as np\n",
    "import pandas as pd\n",
    "import seaborn as sns\n",
    "import multiprocessing as mp\n",
    "\n",
    "def count_characters(chunk):\n",
    "    \"\"\"Подсчитываем частоту символов в строковом столбце.\"\"\"\n",
    "    counts = np.zeros(256, dtype=np.uint32)\n",
    "    for row in chunk:\n",
    "        for char in row:\n",
    "            counts[ord(char)] += 1\n",
    "    return counts\n",
    "\n",
    "def build_heatmap(frequencies):\n",
    "    \"\"\"Строим тепловую карту частотности символов.\"\"\"\n",
    "    heatmap_data = frequencies.reshape(16, 16)\n",
    "    f, ax = plt.subplots(figsize=(32, 32))\n",
    "    ax = sns.heatmap(heatmap_data, annot=True, fmt='g', cmap='YlGnBu')\n",
    "    ax.set_title(\"Тепловая карта частотности символов\")\n",
    "    ax.set_xlabel(\"Символы\")\n",
    "    ax.set_ylabel(\"Частоты\")\n",
    "\n",
    "if __name__ == \"__main__\":\n",
    "    # Чтение данных\n",
    "    df = pd.read_csv('datasetfile.csv')\n",
    "\n",
    "    # Параллельное вычисление частот символов\n",
    "    cores = mp.cpu_count()\n",
    "    pool = mp.Pool(cores)\n",
    "    chunk_size = 10000000  # Размер куска данных для одного процесса\n",
    "    chunks = [df['String'][i:i + chunk_size].values for i in range(0, len(df), chunk_size)]\n",
    "    char_counts = pool.map(count_characters, chunks)\n",
    "\n",
    "    # Объединение результатов\n",
    "    total_char_counts = sum(char_counts)\n",
    "\n",
    "    # Нормализуем данные\n",
    "    normalized_char_counts = total_char_counts / len(df)\n",
    "\n",
    "    # Строим тепловую карту\n",
    "    build_heatmap(normalized_char_counts)"
   ],
   "id": "2d6806a0305f86d2",
   "outputs": [
    {
     "output_type": "display_data",
     "data": {
      "text/plain": [
       "<Figure size 3200x3200 with 2 Axes>"
      ],
      "image/png": "[encoded data removed]"
     },
     "metadata": {}
    }
   ],
   "execution_count": 13
  },
  {
   "cell_type": "markdown",
   "source": [
    "Дополнительное задание 1"
   ],
   "metadata": {
    "id": "Q7yhaltvrHKE"
   },
   "id": "Q7yhaltvrHKE"
  },
  {
   "metadata": {
    "colab": {
     "base_uri": "https://localhost:8080/"
    },
    "id": "44e6a7ef8d6150a5",
    "outputId": "cb61ce98-1f25-457f-a837-69a2189abc37"
   },
   "cell_type": "code",
   "outputs": [
    {
     "output_type": "stream",
     "name": "stdout",
     "text": [
      "Размеры выборок:\n",
      "Тренировочная выборка: 50000000\n",
      "Первая тестовая выборка: 25000000\n",
      "Вторая тестовая выборка: 25000000\n"
     ]
    }
   ],
   "execution_count": 16,
   "source": [
    "# 1.Случайно поделить датасет на 3 части - в одной 25% записей, во второй 25% и 50% в третьей.\n",
    "from sklearn.model_selection import train_test_split\n",
    "\n",
    "\n",
    "train, test = train_test_split(df, test_size=0.5, random_state=42)\n",
    "test1, test2 = train_test_split(test, test_size=0.5, random_state=42)\n",
    "\n",
    "print(\"Размеры выборок:\")\n",
    "print(f\"Тренировочная выборка: {len(train)}\")\n",
    "print(f\"Первая тестовая выборка: {len(test1)}\")\n",
    "print(f\"Вторая тестовая выборка: {len(test2)}\")\n"
   ],
   "id": "44e6a7ef8d6150a5"
  },
  {
   "cell_type": "code",
   "source": [
    "# 2.Проверить на статистическую значимость различий для среднего по колонке numeric\n",
    "\n",
    "from scipy.stats import ttest_ind\n",
    "\n",
    "mean_train = train['Numeric'].mean()\n",
    "mean_test1 = test1['Numeric'].mean()\n",
    "mean_test2 = test2['Numeric'].mean()\n",
    "\n",
    "# T-тест между тренировочной и первой тестовой выборкой\n",
    "t_statistic, p_value = ttest_ind(train['Numeric'], test1['Numeric'])\n",
    "print(f\"T-статистика: {t_statistic:.3f}, p-значение: {p_value:.3e}\")\n",
    "\n",
    "# Интерпретация p-value:\n",
    "alpha = 0.05\n",
    "if p_value > alpha:\n",
    "    print(\"Нет статистически значимых различий между средними.\")\n",
    "else:\n",
    "    print(\"Есть статистически значимые различия между средними (p-value < alpha).\")\n",
    "\n",
    "# Аналогично для второй тестовой выборки\n",
    "t_statistic2, p_value2 = ttest_ind(train['Numeric'], test2['Numeric'])\n",
    "print(\"\\nT-статистика: {:.3f}, p-значение: {:.3e}\".format(t_statistic2, p_value2))\n",
    "if p_value2 > alpha:\n",
    "    print(\"Нет статистически значимых различий между средними.\")\n",
    "else:\n",
    "    print(\"Есть статистически значимое различие между средними значениями (p-значение < alpha)\")"
   ],
   "metadata": {
    "colab": {
     "base_uri": "https://localhost:8080/"
    },
    "id": "D7yrggnsu07S",
    "outputId": "a5d39c23-6663-4cae-d471-c0e972061123"
   },
   "id": "D7yrggnsu07S",
   "execution_count": 17,
   "outputs": [
    {
     "output_type": "stream",
     "name": "stdout",
     "text": [
      "T-статистика: 1.013, p-значение: 3.109e-01\n",
      "Нет статистически значимых различий между средними.\n",
      "\n",
      "T-статистика: -0.744, p-значение: 4.571e-01\n",
      "Нет статистически значимых различий между средними.\n"
     ]
    }
   ]
  },
  {
   "cell_type": "code",
   "source": [
    "# 3.Оценить силу эффекта\n",
    "import numpy as np\n",
    "\n",
    "def cohen_d(group1, group2):\n",
    "    # Среднее двух групп\n",
    "    mean1, mean2 = np.mean(group1), np.mean(group2)\n",
    "\n",
    "    # Расчет pooled стандартного отклонения\n",
    "    std1, std2 = np.std(group1, ddof=1), np.std(group2, ddof=1)\n",
    "    n1, n2 = len(group1), len(group2)\n",
    "    pooled_std = np.sqrt(((n1 - 1) * std1 ** 2 + (n2 - 1) * std2 ** 2) / (n1 + n2 - 2))\n",
    "\n",
    "    # Расчет Cohen's d\n",
    "    d = (mean1 - mean2) / pooled_std\n",
    "\n",
    "    return d\n",
    "\n",
    "cohen_d1 = cohen_d(train['Numeric'], test1['Numeric'])\n",
    "cohen_d2 = cohen_d(train['Numeric'], test2['Numeric'])\n",
    "\n",
    "print(f\"Коэффициент Коэна для первой тестовой выборки: {cohen_d1:.3f}\")\n",
    "print(f\"Коэффициент Коэна для второй тестовой выборки: {cohen_d2:.3f}\")\n",
    "\n",
    "# Интерпретация коэффициентов Коэна:\n",
    "if abs(cohen_d1) < 0.2:\n",
    "    print(\"Маленький эффект\")\n",
    "elif abs(cohen_d1) >= 0.8:\n",
    "    print(\"Большой эффект\")\n",
    "else:\n",
    "    print(\"Средний эффект\")"
   ],
   "metadata": {
    "colab": {
     "base_uri": "https://localhost:8080/"
    },
    "id": "3_42-rHwu7ph",
    "outputId": "ee6fc078-5427-4b8c-fbed-912dbf1c0ba7"
   },
   "id": "3_42-rHwu7ph",
   "execution_count": 23,
   "outputs": [
    {
     "output_type": "stream",
     "name": "stdout",
     "text": [
      "Коэффициент Коэна для первой тестовой выборки: 0.000\n",
      "Коэффициент Коэна для второй тестовой выборки: -0.000\n",
      "Маленький эффект\n"
     ]
    }
   ]
  },
  {
   "cell_type": "code",
   "source": [
    "# 4.Проделать шаги 2 и 3 используя байесовский подход\n",
    "import numpy as np\n",
    "import multiprocessing as mp\n",
    "from joblib import Parallel, delayed\n",
    "from scipy.stats import norm\n",
    "\n",
    "def bayesian_mean_comparison(samples, prior_mu=0, prior_sigma=10, iterations=10000, n_jobs=-1):\n",
    "    # samples - список выборок (например, [sample1, sample2, sample3])\n",
    "    num_samples = len(samples)\n",
    "\n",
    "    if n_jobs is None or n_jobs == -1:\n",
    "        n_jobs = mp.cpu_count()\n",
    "    # Параллельное вычисление общего стандартного отклонения\n",
    "    with mp.Pool(n_jobs) as pool:\n",
    "        variances = pool.map(np.var, samples)\n",
    "\n",
    "    # Среднее стандартное отклонение\n",
    "    sigma = np.sqrt(sum(variances) / num_samples)\n",
    "\n",
    "    # Параметры для генерации выборок\n",
    "    priors = [(prior_mu / prior_sigma**2 + sum(s) / sigma**2) / (1 / prior_sigma**2 + len(s) / sigma**2) for s in samples]\n",
    "    sigmas = [np.sqrt(1 / (1 / prior_sigma**2 + len(s) / sigma**2)) for s in samples]\n",
    "\n",
    "    # Генерация выборок\n",
    "    posterior_differences = []\n",
    "    for _ in range(iterations):\n",
    "        # Генерация выборок из нормальных распределений\n",
    "        post_mus = [np.random.normal(mu, sig) for mu, sig in zip(priors, sigmas)]\n",
    "\n",
    "        # Вычисление разности средних\n",
    "        differences = []\n",
    "        for i in range(num_samples):\n",
    "            for j in range(i+1, num_samples):\n",
    "                differences.append(post_mus[i] - post_mus[j])\n",
    "\n",
    "        posterior_differences.extend(differences)\n",
    "\n",
    "    return posterior_differences\n",
    "\n",
    "\n",
    "# Подготовка данных\n",
    "numeric_part1 = train['Numeric']\n",
    "numeric_part2 = test1['Numeric']\n",
    "numeric_part3 = test2['Numeric']\n",
    "samples = [numeric_part1, numeric_part2, numeric_part3]\n",
    "\n",
    "posterior_diffs = bayesian_mean_comparison(samples)\n",
    "\n",
    "plt.hist(posterior_diffs, bins=30)\n",
    "plt.title(\"Распределение разности средних\")\n",
    "plt.xlabel(\"Разность средних\")\n",
    "plt.ylabel(\"Частота\")\n",
    "plt.show()"
   ],
   "metadata": {
    "colab": {
     "base_uri": "https://localhost:8080/",
     "height": 508
    },
    "id": "YMFykGmJvAbJ",
    "outputId": "adae4011-db96-4daa-b347-df8ab6ba53f4"
   },
   "id": "YMFykGmJvAbJ",
   "execution_count": 35,
   "outputs": [
    {
     "output_type": "display_data",
     "data": {
      "text/plain": [
       "<Figure size 720x480 with 1 Axes>"
      ],
      "image/png": "[encoded data removed]"
     },
     "metadata": {}
    }
   ]
  },
  {
   "cell_type": "markdown",
   "source": [
    "Дополнительное задание 2"
   ],
   "metadata": {
    "id": "gPhacompBLE0"
   },
   "id": "gPhacompBLE0"
  },
  {
   "cell_type": "markdown",
   "source": [
    "Предложим два возможных подхода к решению данной задачи.\n",
    "\n",
    "### Метод 1: Биномиальное распределение и оценка максимального правдоподобия\n",
    "\n",
    "#### Постановка задачи:\n",
    "Мы знаем, что наша компания выпустила 200 прототипов, и ни один из них не оказался успешным. Конкурент выпустил 1000 прототипов, из которых 5 были успешны. Нам нужно найти вероятность того, что следующий (201-й) прототип нашей компании окажется успешным.\n",
    "\n",
    "#### Решение:\n",
    "\n",
    "1. **Модель биномиального распределения:**\n",
    "   Каждый прототип можно рассматривать как независимый эксперимент с двумя исходами: успех или неудача. Вероятность успеха обозначим через $p$. Тогда количество успешных прототипов следует биномиальному распределению с параметрами $n$ (количество экспериментов) и $p$.\n",
    "\n",
    "2. **Оценка максимального правдоподобия:**\n",
    "   Мы можем использовать метод максимального правдоподобия для оценки вероятности успеха $p$ на основе имеющихся данных. Для нашего случая, когда ни одного успешного прототипа не было выпущено, максимальная правдоподобная оценка вероятности успеха равна нулю ($p = 0$). Это означает, что наиболее вероятно, что следующая игра тоже не будет успешной.\n",
    "\n",
    "3. **Расчет вероятности:**\n",
    "   Так как наша оценка вероятности успеха для следующей игры равна нулю, вероятность того, что 201-й прототип будет успешным, также равна нулю.\n",
    "\n",
    "#### Заключение:\n",
    "Используя биномиальную модель и метод максимального правдоподобия, мы пришли к выводу, что вероятность успеха 201-го прототипа равна нулю. Однако этот результат основан на предположении, что предыдущие эксперименты точно отражают истинную вероятность успеха, что может быть спорным.\n",
    "\n",
    "### Метод 2: Байесовский подход\n",
    "\n",
    "#### Постановка задачи:\n",
    "Допустим, что мы хотим учесть неопределенность в оценке вероятности успеха и использовать байесовский подход для учета наших априорных знаний о вероятности успеха.\n",
    "\n",
    "#### Решение:\n",
    "\n",
    "1. **Выбор априорного распределения:**\n",
    "   Начнем с выбора априорного распределения для вероятности успеха. Обычно используют бета-распределение, так как оно является сопряженным априором для биномиальной модели. Пусть наше априорное распределение будет $Beta(\\alpha, \\beta)$, где $\\alpha$ и $\\beta$ — гиперпараметры, которые определяют форму распределения.\n",
    "\n",
    "2. **Обновление априори до апостериори:**\n",
    "   Используя данные о том, что ни одна из 200 попыток не была успешной, мы можем обновить наше априорное распределение до апостериорного. Формула для обновления выглядит следующим образом:\n",
    "   \n",
    "\n",
    "$$ P(p | x) = Beta(x+\\alpha, n-x+\\beta) $$\n",
    "\n",
    "   где $x$ — количество успехов, $n$ — общее количество испытаний, $\\alpha$ и $\\beta$ — параметры априорного распределения.\n",
    "\n",
    "3. **Подстановка значений:**\n",
    "   В нашем случае $x = 0$ (ни одного успеха), $n = 200$, и пусть $\\alpha = 1$, $\\beta = 1$ (неинформативное априорное распределение). Тогда апостериорное распределение становится $Beta(1, 201)$.\n",
    "\n",
    "4. **Прогнозирование вероятности успеха следующего испытания:**\n",
    "   Среднее значение бета-распределения $Beta(a, b)$ равно $\\frac{a}{a+b}$. Таким образом, ожидаемая вероятность успеха для следующего испытания равна:\n",
    "   \n",
    "\n",
    "$$ E[p] = \\frac{1}{1+201} = \\frac{1}{202} \\approx 0.00495 $$\n",
    "\n",
    "#### Заключение:\n",
    "Байесовский подход дает нам более гибкий способ оценки вероятности успеха, учитывая нашу уверенность в начальных оценках. В данном случае, ожидаемая вероятность того, что 201-й прототип будет успешным, составляет примерно 0.005.\n"
   ],
   "metadata": {
    "id": "3aJeozo8BNis"
   },
   "id": "3aJeozo8BNis"
  }
 ],
 "metadata": {
  "kernelspec": {
   "display_name": "Python 3",
   "name": "python3"
  },
  "language_info": {
   "codemirror_mode": {
    "name": "ipython",
    "version": 2
   },
   "file_extension": ".py",
   "mimetype": "text/x-python",
   "name": "python",
   "nbconvert_exporter": "python",
   "pygments_lexer": "ipython2",
   "version": "2.7.6"
  },
  "colab": {
   "provenance": [],
   "gpuType": "V28"
  },
  "accelerator": "TPU"
 },
 "nbformat": 4,
 "nbformat_minor": 5
}
